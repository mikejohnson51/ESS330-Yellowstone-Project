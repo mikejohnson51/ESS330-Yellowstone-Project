{
 "cells": [
  {
   "cell_type": "markdown",
   "metadata": {},
   "source": [
    "# ESS330 Yellowstone Project\n",
    "\n",
    "Sammy Tetrault (CSU)  \n",
    "Zoe Gagalis (CSU)  \n",
    "Zoe Ellis (CSU)  \n",
    "April 9, 2025\n",
    "\n",
    "## Data Exploration\n",
    "\n",
    "##### Data Description\n",
    "\n",
    "The data that we are looking at comes from a study conducted by David Cooper and Tom Hobbs of Colorado State University. Their study investigated Salix height as a response to browsing and the water table \\[@cooper\\].For our study, we are interested in the relationship between wolf population count and grazer population counts (elk and bison). The first dataset that we are using from Cooper & Hobbs is a bison data csv which includes\n",
    "\n",
    "##### Opening the data"
   ],
   "id": "b881e8c7-7404-4ee3-8780-ddae23d332dd"
  },
  {
   "cell_type": "code",
   "execution_count": null,
   "metadata": {},
   "outputs": [
    {
     "output_type": "stream",
     "name": "stderr",
     "text": [
      "Warning in read.table(file = file, header = header, sep = sep, quote = quote, :\n",
      "incomplete final line found by readTableHeader on\n",
      "'C:/Users/sammy/OneDrive/Desktop/ESS330/ESS330-Yellowstone-Project/data/wolf_1995_2022_population_ynp_nr_nnrr.csv'"
     ]
    }
   ],
   "source": [
    "bison_data <- read.csv(\"C:/Users/sammy/OneDrive/Desktop/ESS330/ESS330-Yellowstone-Project/data/BisonData2000_2023.csv\")\n",
    "\n",
    "elk_data <- read.csv(\"C:/Users/sammy/OneDrive/Desktop/ESS330/ESS330-Yellowstone-Project/data/corrected_elk_counts_09Jul2023_Park_only.csv\")\n",
    "\n",
    "wolf_data <- read.csv(\"C:/Users/sammy/OneDrive/Desktop/ESS330/ESS330-Yellowstone-Project/data/wolf_1995_2022_population_ynp_nr_nnrr.csv\")"
   ],
   "id": "f2b67d4a-23a0-49c8-86ea-caac61b4c80f"
  }
 ],
 "nbformat": 4,
 "nbformat_minor": 5,
 "metadata": {}
}
