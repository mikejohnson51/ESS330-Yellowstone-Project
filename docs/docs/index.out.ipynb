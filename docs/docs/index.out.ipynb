{
 "cells": [
  {
   "cell_type": "markdown",
   "metadata": {},
   "source": [
    "# ESS330 Yellowstone Project\n",
    "\n",
    "Sammy Tetrault (CSU)  \n",
    "Zoe Gagalis (CSU)  \n",
    "Zoe Ellis (CSU)  \n",
    "April 9, 2025\n",
    "\n",
    "## Data Exploration\n",
    "\n",
    "##### Data Description\n",
    "\n",
    "The data that we are looking at comes from a study conducted by David Cooper and Tom Hobbs of Colorado State University. Their study investigated Salix height as a response to browsing and the water table ([Cooper & Hobbs, 2023](#ref-cooper)).For our study, we are interested in the relationship between wolf population count and grazer population counts (elk and bison). The first dataset that we are using from Cooper & Hobbs is a bison data csv which includes\n",
    "\n",
    "##### Opening the data"
   ],
   "id": "61d204c6-62ab-4742-9817-59e6a61aad54"
  },
  {
   "cell_type": "code",
   "execution_count": null,
   "metadata": {},
   "outputs": [
    {
     "output_type": "stream",
     "name": "stderr",
     "text": [
      "Warning in read.table(file = file, header = header, sep = sep, quote = quote, :\n",
      "incomplete final line found by readTableHeader on\n",
      "'C:/Users/sammy/OneDrive/Desktop/ESS330/ESS330-Yellowstone-Project/data/wolf_1995_2022_population_ynp_nr_nnrr.csv'"
     ]
    }
   ],
   "source": [
    "bison_data <- read.csv(\"C:/Users/sammy/OneDrive/Desktop/ESS330/ESS330-Yellowstone-Project/data/BisonData2000_2023.csv\")\n",
    "\n",
    "elk_data <- read.csv(\"C:/Users/sammy/OneDrive/Desktop/ESS330/ESS330-Yellowstone-Project/data/corrected_elk_counts_09Jul2023_Park_only.csv\")\n",
    "\n",
    "wolf_data <- read.csv(\"C:/Users/sammy/OneDrive/Desktop/ESS330/ESS330-Yellowstone-Project/data/wolf_1995_2022_population_ynp_nr_nnrr.csv\")\n"
   ],
   "id": "f484d9db-c858-492f-8728-cd822a5085d2"
  },
  {
   "cell_type": "markdown",
   "metadata": {},
   "source": [
    "Cooper, D., & Hobbs, N. (2023). Twenty years of salix height in response to experimental manipulation of browsing and water table, northern range of yellowstone national park. *Dryad, Dataset. Https://Doi. Org/10.5061/Dryad. Sqv9s4n7n*."
   ],
   "id": "66472183-00ce-421f-8cc7-1664d55d6f11"
  }
 ],
 "nbformat": 4,
 "nbformat_minor": 5,
 "metadata": {}
}
