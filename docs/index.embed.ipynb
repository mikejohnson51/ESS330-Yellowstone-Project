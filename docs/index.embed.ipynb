{
 "cells": [
  {
   "cell_type": "markdown",
   "metadata": {},
   "source": [
    "# ESS330 Yellowstone Project\n",
    "\n",
    "Sammy Tetrault (CSU)  \n",
    "Zoe Gagalis (CSU)  \n",
    "Zoe Ellis (CSU)  \n",
    "April 9, 2025\n",
    "\n",
    "## Data Exploration\n",
    "\n",
    "##### Data Description\n",
    "\n",
    "The data that we are looking at comes from a study conducted by David Cooper and Tom Hobbs of Colorado State University. Their study investigated Salix height as a response to browsing and the water table \\[@cooper\\]."
   ],
   "id": "bc68b2ce-f7f6-4b6d-920e-aad607af2b7c"
  }
 ],
 "nbformat": 4,
 "nbformat_minor": 5,
 "metadata": {}
}
