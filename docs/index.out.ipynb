{
 "cells": [
  {
   "cell_type": "markdown",
   "metadata": {},
   "source": [
    "# ESS330 Yellowstone Project\n",
    "\n",
    "Sammy Tetrault (CSU)  \n",
    "Zoe Gagalis (CSU)  \n",
    "Zoe Ellis (CSU)  \n",
    "April 9, 2025\n",
    "\n",
    "## Data Exploration\n",
    "\n",
    "##### Data Description\n",
    "\n",
    "The data that we are looking at comes from a study conducted by David Cooper and Tom Hobbs of Colorado State University. Their study investigated Salix height as a response to browsing and the water table ([Cooper & Hobbs, 2023](#ref-cooper)).\n",
    "\n",
    "Cooper, D., & Hobbs, N. (2023). Twenty years of salix height in response to experimental manipulation of browsing and water table, northern range of yellowstone national park. *Dryad, Dataset. Https://Doi. Org/10.5061/Dryad. Sqv9s4n7n*."
   ],
   "id": "35d19180-f4eb-4280-bd1c-a7a8cdbfcccb"
  }
 ],
 "nbformat": 4,
 "nbformat_minor": 5,
 "metadata": {}
}
